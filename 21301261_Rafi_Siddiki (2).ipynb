{
  "nbformat": 4,
  "nbformat_minor": 0,
  "metadata": {
    "colab": {
      "provenance": []
    },
    "kernelspec": {
      "name": "python3",
      "display_name": "Python 3"
    },
    "language_info": {
      "name": "python"
    }
  },
  "cells": [
    {
      "cell_type": "code",
      "source": [
        "a=input()\n",
        "b=input()\n",
        "def cir (a,b):\n",
        "  if len(a) >10 or len(b)>10:\n",
        "    print('invalid input')\n",
        "  else:\n",
        "    print('Your input is valid. Press any key and then press enter to continue!!!')\n",
        "    for i in range(len(a)):\n",
        "      if 65<=ord(a[i])<=90:\n",
        "        sidx1=i\n",
        "    print(f'Top board start charater: {a[sidx1]} \\nTop board start index: {sidx1}')\n",
        "    for i in range(len(b)):\n",
        "      if 65<=ord(b[i])<=90:\n",
        "        sidx2=i\n",
        "    print(f'Bottom board start charater: {b[sidx2]} \\nBottom board start index: {sidx2}')\n",
        "    array=[['']*10,['']*10]\n",
        "    for i in range(len(array)):\n",
        "      if i==0:\n",
        "        for j in range(len(a)):\n",
        "          array[i][j]=a[j]\n",
        "      else:\n",
        "        for j in range(len(b)):\n",
        "          array[i][j]=b[j]\n",
        "    tidx1=sidx1\n",
        "    tidx2=sidx2\n",
        "    while True:\n",
        "      print('Press any key and then press enter to continue!!!')\n",
        "      val=input()      \n",
        "      if val=='q' or val=='Q':\n",
        "        print(f'Top board start charater: {a[sidx1]} \\nTop board start index: {sidx1}')\n",
        "        print(f'Bottom board start charater: {b[sidx2]} \\nBottom board start index: {sidx2}')\n",
        "        break\n",
        "      else:\n",
        "        nidx1=tidx1\n",
        "        nidx2=tidx2\n",
        "        for i in range(len(array[0])):\n",
        "          print(array[0][nidx1], end='')\n",
        "          nidx1= (nidx1-1)%len(array[0])\n",
        "        tidx1= (nidx1-1)%len(array[0])\n",
        "        print()\n",
        "        for j in range(len(array[1])):\n",
        "          print(array[1][nidx2], end='')\n",
        "          nidx2=(nidx2+1)%len(array[1])\n",
        "        tidx2=(nidx2-1)%len(array[1])\n",
        "        print()\n",
        "cir(a,b) #giRtfel2th,rightLeft2"
      ],
      "metadata": {
        "colab": {
          "base_uri": "https://localhost:8080/"
        },
        "id": "XToteVwYdWpw",
        "outputId": "9e7219f3-28c5-42d6-9655-4439ee27a22b"
      },
      "execution_count": 22,
      "outputs": [
        {
          "output_type": "stream",
          "name": "stdout",
          "text": [
            "giRtfel2th\n",
            "rightLeft2\n",
            "Your input is valid. Press any key and then press enter to continue!!!\n",
            "Top board start charater: R \n",
            "Top board start index: 2\n",
            "Bottom board start charater: L \n",
            "Bottom board start index: 5\n",
            "Press any key and then press enter to continue!!!\n",
            "1\n",
            "Right2left\n",
            "Left2right\n",
            "Press any key and then press enter to continue!!!\n",
            "2\n",
            "ight2leftR\n",
            "tLeft2righ\n",
            "Press any key and then press enter to continue!!!\n",
            "3\n",
            "ght2leftRi\n",
            "htLeft2rig\n",
            "Press any key and then press enter to continue!!!\n",
            "4\n",
            "ht2leftRig\n",
            "ghtLeft2ri\n",
            "Press any key and then press enter to continue!!!\n",
            "q\n",
            "Top board start charater: R \n",
            "Top board start index: 2\n",
            "Bottom board start charater: L \n",
            "Bottom board start index: 5\n"
          ]
        }
      ]
    }
  ]
}