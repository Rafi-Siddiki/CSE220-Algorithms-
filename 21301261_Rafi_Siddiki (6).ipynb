{
  "nbformat": 4,
  "nbformat_minor": 0,
  "metadata": {
    "colab": {
      "provenance": []
    },
    "kernelspec": {
      "name": "python3",
      "display_name": "Python 3"
    },
    "language_info": {
      "name": "python"
    }
  },
  "cells": [
    {
      "cell_type": "code",
      "execution_count": 1,
      "metadata": {
        "colab": {
          "base_uri": "https://localhost:8080/"
        },
        "id": "bM9dJF5chtL_",
        "outputId": "b4552185-cf6e-4c64-fa1e-1a7e9b86226b"
      },
      "outputs": [
        {
          "output_type": "execute_result",
          "data": {
            "text/plain": [
              "120"
            ]
          },
          "metadata": {},
          "execution_count": 1
        }
      ],
      "source": [
        "def fact(num):\n",
        "  if num == 0 or num == 1:\n",
        "    return 1\n",
        "  else:\n",
        "    return num * fact(num-1)\n",
        "fact(5)"
      ]
    },
    {
      "cell_type": "code",
      "source": [
        "def fibo(num):\n",
        "  if num == 0 or num == 1 :\n",
        "    return num\n",
        "  else:\n",
        "    return fibo(num-1)+fibo(num-2)\n",
        "fibo(5)"
      ],
      "metadata": {
        "colab": {
          "base_uri": "https://localhost:8080/"
        },
        "id": "GTb2V323huQE",
        "outputId": "2500b6f1-9865-4c77-b15a-a219a0d29278"
      },
      "execution_count": 2,
      "outputs": [
        {
          "output_type": "execute_result",
          "data": {
            "text/plain": [
              "5"
            ]
          },
          "metadata": {},
          "execution_count": 2
        }
      ]
    },
    {
      "cell_type": "code",
      "source": [
        "def printlist(arr,i):\n",
        "  if i<len(arr):\n",
        "    print(arr[i])\n",
        "    printlist(arr,i+1)\n",
        "printlist([1,2,5,6,8,9],0)"
      ],
      "metadata": {
        "colab": {
          "base_uri": "https://localhost:8080/"
        },
        "id": "xZ8YapvIhv2j",
        "outputId": "e8f6be9d-b6ee-4a07-ea43-6b732194031e"
      },
      "execution_count": 3,
      "outputs": [
        {
          "output_type": "stream",
          "name": "stdout",
          "text": [
            "1\n",
            "2\n",
            "5\n",
            "6\n",
            "8\n",
            "9\n"
          ]
        }
      ]
    },
    {
      "cell_type": "code",
      "source": [
        "def powerN(val,n):\n",
        "  if n==0:\n",
        "    return 1\n",
        "  else:\n",
        "    return val*powerN(val,n-1)\n",
        "powerN(3, 2)"
      ],
      "metadata": {
        "colab": {
          "base_uri": "https://localhost:8080/"
        },
        "id": "mfVJtSRohx7m",
        "outputId": "b9e35c53-6327-4459-9995-1a51a76f7346"
      },
      "execution_count": 4,
      "outputs": [
        {
          "output_type": "execute_result",
          "data": {
            "text/plain": [
              "9"
            ]
          },
          "metadata": {},
          "execution_count": 4
        }
      ]
    },
    {
      "cell_type": "code",
      "source": [
        "#a)Implement a recursive algorithm that takes a decimal number n and converts n to its corresponding (you may return as a string) binary number.\n",
        "def convert(num):\n",
        "  if num//2==0:\n",
        "    return 1\n",
        "  else:\n",
        "    return str(convert(int((num/2))))+str(num%2)\n",
        "convert(123123)"
      ],
      "metadata": {
        "colab": {
          "base_uri": "https://localhost:8080/",
          "height": 35
        },
        "id": "l733ER1eh4-h",
        "outputId": "f9164a8d-eaf2-4d8b-db6f-913cee567d25"
      },
      "execution_count": 5,
      "outputs": [
        {
          "output_type": "execute_result",
          "data": {
            "text/plain": [
              "'11110000011110011'"
            ],
            "application/vnd.google.colaboratory.intrinsic+json": {
              "type": "string"
            }
          },
          "metadata": {},
          "execution_count": 5
        }
      ]
    },
    {
      "cell_type": "code",
      "source": [
        "class Node:\n",
        "  def __init__(self,val,nxt):\n",
        "    self.val=val\n",
        "    self.nxt=nxt\n",
        "class linkedlist:\n",
        "  def __init__(self,a):\n",
        "    self.head=None\n",
        "    tail=None\n",
        "    for i in range(len(a)):\n",
        "      n=Node(a[i],None)\n",
        "      if self.head==None:\n",
        "        self.head=n\n",
        "        tail=n\n",
        "      else:\n",
        "        tail.nxt=n\n",
        "        tail=n\n",
        "def sum(head):\n",
        "  if head.nxt==None:\n",
        "    return head.val\n",
        "  else:\n",
        "    return head.val+sum(head.nxt)\n",
        "a=linkedlist([1,2,3,4,5,6])\n",
        "sum(a.head)  "
      ],
      "metadata": {
        "colab": {
          "base_uri": "https://localhost:8080/"
        },
        "id": "aIbUvkinh8Xi",
        "outputId": "c2a12bef-baaf-44d5-fe7d-9157efb94d42"
      },
      "execution_count": 6,
      "outputs": [
        {
          "output_type": "execute_result",
          "data": {
            "text/plain": [
              "21"
            ]
          },
          "metadata": {},
          "execution_count": 6
        }
      ]
    },
    {
      "cell_type": "code",
      "source": [
        "class Node:\n",
        "  def __init__(self,val,nxt):\n",
        "    self.val=val\n",
        "    self.nxt=nxt\n",
        "class linkedlist:\n",
        "  def __init__(self,a):\n",
        "    self.head=None\n",
        "    tail=None\n",
        "    for i in range(len(a)):\n",
        "      n=Node(a[i],None)\n",
        "      if self.head==None:\n",
        "        self.head=n\n",
        "        tail=n\n",
        "      else:\n",
        "        tail.nxt=n\n",
        "        tail=n\n",
        "def reverse(head):\n",
        "  if head.nxt==None:\n",
        "    print(head.val)\n",
        "  else:\n",
        "    reverse(head.nxt)\n",
        "    print(head.val)\n",
        "a=linkedlist([10,20,30,40])\n",
        "reverse(a.head)"
      ],
      "metadata": {
        "colab": {
          "base_uri": "https://localhost:8080/"
        },
        "id": "oE8m_nhpiJ-P",
        "outputId": "3d9b0893-2b47-44db-e29e-246311c3d428"
      },
      "execution_count": 7,
      "outputs": [
        {
          "output_type": "stream",
          "name": "stdout",
          "text": [
            "40\n",
            "30\n",
            "20\n",
            "10\n"
          ]
        }
      ]
    },
    {
      "cell_type": "code",
      "source": [
        "def hocBuilder(height):\n",
        "  if height == 0:\n",
        "    return 0\n",
        "  if height == 1:\n",
        "    return 8\n",
        "  else:\n",
        "    return 5 + hocBuilder(height-1)\n",
        "hocBuilder(3)"
      ],
      "metadata": {
        "colab": {
          "base_uri": "https://localhost:8080/"
        },
        "id": "GU5lSIxFiMZe",
        "outputId": "e3d01f8f-f0a6-4f1c-85f6-0c44b1fee5a1"
      },
      "execution_count": 8,
      "outputs": [
        {
          "output_type": "execute_result",
          "data": {
            "text/plain": [
              "18"
            ]
          },
          "metadata": {},
          "execution_count": 8
        }
      ]
    },
    {
      "cell_type": "code",
      "source": [
        "def printtill(val):\n",
        "  if val == 1:\n",
        "    return 1\n",
        "  else:\n",
        "    return f'{printtill(val-1)} {val}'\n",
        "def lefttri(num):\n",
        "  if num == 0:\n",
        "    return 0\n",
        "  else:   \n",
        "    lefttri(num-1)\n",
        "    print(printtill(num)) \n",
        "num = int(input(\"Enter num: \"))\n",
        "lefttri(num)"
      ],
      "metadata": {
        "colab": {
          "base_uri": "https://localhost:8080/"
        },
        "id": "clF-4OPPiPWS",
        "outputId": "1c821b2f-caa9-43a3-b136-14e639971fdf"
      },
      "execution_count": 9,
      "outputs": [
        {
          "output_type": "stream",
          "name": "stdout",
          "text": [
            "Enter num: 5\n",
            "1\n",
            "1 2\n",
            "1 2 3\n",
            "1 2 3 4\n",
            "1 2 3 4 5\n"
          ]
        }
      ]
    },
    {
      "cell_type": "code",
      "source": [
        "def lines(height):\n",
        "  if height<1:\n",
        "    return 0\n",
        "  else:\n",
        "    print(' ',end=' ')\n",
        "    lines(height-1)\n",
        "def link(height,idx):\n",
        "  if height<1:\n",
        "    return 0\n",
        "  else:\n",
        "    print(idx+1,end=' ')\n",
        "    link(height-1,idx+1)\n",
        "def pattern(line,idx):\n",
        "  if line<1:\n",
        "    return 0\n",
        "  else:\n",
        "    lines(line-1)\n",
        "    link(idx-line+1,0)\n",
        "    print()\n",
        "    pattern(line-1,idx)\n",
        "pattern(5,5)"
      ],
      "metadata": {
        "colab": {
          "base_uri": "https://localhost:8080/"
        },
        "id": "kgUCTJgPiRrV",
        "outputId": "3c1fd1d6-5332-4e63-8b94-63f7ac53256c"
      },
      "execution_count": 10,
      "outputs": [
        {
          "output_type": "stream",
          "name": "stdout",
          "text": [
            "        1 \n",
            "      1 2 \n",
            "    1 2 3 \n",
            "  1 2 3 4 \n",
            "1 2 3 4 5 \n"
          ]
        }
      ]
    },
    {
      "cell_type": "code",
      "source": [
        "class FinalQ: \n",
        "  def print(self,array,idx): \n",
        "    if(idx<len(array)): \n",
        "      var = self.calcProfit(array[idx])\n",
        "      print(f'{idx+1}. Investment: {array[idx]},: Profit: {var}')\n",
        "      self.print(array,idx+1)\n",
        "  def calcProfit(self,investment):\n",
        "    if investment<=25000:\n",
        "      return 0\n",
        "    elif investment%1000!=0:\n",
        "      return self.calcProfit(investment - 100) + 4.5\n",
        "    elif investment<=100000:\n",
        "      return self.calcProfit(investment - 1000) + 45.0\n",
        "    elif investment>100000:\n",
        "      var=80.0+self.calcProfit(investment-1000)\n",
        "      return var \n",
        "array=[25000,100000,250000,350000] \n",
        "f = FinalQ() \n",
        "f.print(array,0)"
      ],
      "metadata": {
        "colab": {
          "base_uri": "https://localhost:8080/"
        },
        "id": "WJmj1tR3iWOA",
        "outputId": "353c14d3-fa10-4549-cbb4-758def3659d7"
      },
      "execution_count": 11,
      "outputs": [
        {
          "output_type": "stream",
          "name": "stdout",
          "text": [
            "1. Investment: 25000,: Profit: 0\n",
            "2. Investment: 100000,: Profit: 3375.0\n",
            "3. Investment: 250000,: Profit: 15375.0\n",
            "4. Investment: 350000,: Profit: 23375.0\n"
          ]
        }
      ]
    },
    {
      "cell_type": "code",
      "source": [
        "def flattenlist(given,out):\n",
        "  if len(given)==0:\n",
        "    return out\n",
        "  if type(given[0])==list:\n",
        "    flattenlist(given[0],out)\n",
        "    return flattenlist(given[1:],out)\n",
        "  else:\n",
        "    out.append(given[0])\n",
        "    return flattenlist(given[1:],out)\n",
        "given=[1, [2, [3, [4], 5], 6], 7, 8, [9, [[10, 11], 12], 13], 14, [15, [16, [17]]]]\n",
        "output = flattenlist(given, [])\n",
        "print(output)"
      ],
      "metadata": {
        "colab": {
          "base_uri": "https://localhost:8080/"
        },
        "id": "OzpYPLTYsU6-",
        "outputId": "62199e67-b449-4c03-9722-ba8f36114723"
      },
      "execution_count": 12,
      "outputs": [
        {
          "output_type": "stream",
          "name": "stdout",
          "text": [
            "[1, 2, 3, 4, 5, 6, 7, 8, 9, 10, 11, 12, 13, 14, 15, 16, 17]\n"
          ]
        }
      ]
    }
  ]
}