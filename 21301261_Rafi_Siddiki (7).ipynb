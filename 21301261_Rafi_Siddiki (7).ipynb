{
  "nbformat": 4,
  "nbformat_minor": 0,
  "metadata": {
    "colab": {
      "provenance": []
    },
    "kernelspec": {
      "name": "python3",
      "display_name": "Python 3"
    },
    "language_info": {
      "name": "python"
    }
  },
  "cells": [
    {
      "cell_type": "code",
      "execution_count": 1,
      "metadata": {
        "colab": {
          "base_uri": "https://localhost:8080/"
        },
        "id": "57CMOAOCDd6_",
        "outputId": "c6327c74-d1b4-483b-e1c7-5f0bcbf15f8b"
      },
      "outputs": [
        {
          "output_type": "stream",
          "name": "stdout",
          "text": [
            "[2, None, None, 1, 1, None, None, 1, 1, 1, None, 1, None, 1, 1]\n",
            "4\n",
            "False\n",
            "True\n",
            "[-4, -4, -1, 0, 3, 4, 5, 7, 9, 10]\n"
          ]
        }
      ],
      "source": [
        "class KeyIndex:\n",
        "  def __init__(self,arr):\n",
        "    min=0\n",
        "    max=0\n",
        "    for i in arr:\n",
        "      if i>max:\n",
        "        max=i\n",
        "      elif i<=min:\n",
        "        min=i\n",
        "    self.lowest=abs(min)\n",
        "    self.lis=[None]*(max+self.lowest+1)\n",
        "    for j in range(len(arr)):\n",
        "      if self.lis[arr[j]+self.lowest]==None:\n",
        "        self.lis[arr[j]+self.lowest]=1\n",
        "      else:\n",
        "        self.lis[arr[j]+self.lowest]+=1\n",
        "  def search(self,key):\n",
        "    if key>len(self.lis)-1:\n",
        "      return False\n",
        "    elif key<-self.lowest:\n",
        "      return False\n",
        "    elif self.lis[key+self.lowest]!=None:\n",
        "      return True\n",
        "    else:\n",
        "      return False\n",
        "  def sort(self):\n",
        "    li=[]\n",
        "    for var in range(len(self.lis)):\n",
        "      if self.lis[var]!=None:\n",
        "        for z in range(self.lis[var]):\n",
        "          li.append(var-self.lowest)\n",
        "    return li\n",
        "a= [10,4,-4,7,5,3,-1,9,-4,0]\n",
        "k=KeyIndex(a)\n",
        "print(k.lis)\n",
        "print(k.lowest)\n",
        "print(k.search(-5))\n",
        "print(k.search(10))\n",
        "print(k.sort())"
      ]
    },
    {
      "cell_type": "code",
      "source": [
        "array=[\"BZDYBD\",\"ZRDYNYZ\",\"YERBBDZR\",\"ZBTRDS\",\"BTZRS\",\"ZTBRSD\",\"TBZRTRS\",\"NDTSRYR\",\"FAASDDE\"]\n",
        "hashtable=[None]*(len(array)+1)\n",
        "vowel='AEIOU'\n",
        "num='0123456789'\n",
        "for i in array:\n",
        "  consonant=0\n",
        "  digits=0\n",
        "  for j in i:\n",
        "    if j not in vowel and j not in num:\n",
        "      consonant+=1\n",
        "    elif j in num:\n",
        "      digits+=int(j)\n",
        "  idx=(consonant*24 +digits)%9\n",
        "  if hashtable[idx]==None:\n",
        "    hashtable[idx]=i\n",
        "  else:\n",
        "    while hashtable[idx]!=None:\n",
        "      idx=(idx+1)%(len(array)+1)\n",
        "    hashtable[idx]=i\n",
        "print(hashtable)"
      ],
      "metadata": {
        "id": "UIBw-4EqPg9K",
        "colab": {
          "base_uri": "https://localhost:8080/"
        },
        "outputId": "392e660a-db4f-4790-db37-f37e041c3177"
      },
      "execution_count": 2,
      "outputs": [
        {
          "output_type": "stream",
          "name": "stdout",
          "text": [
            "['BZDYBD', 'ZBTRDS', 'ZTBRSD', 'BTZRS', 'FAASDDE', None, 'ZRDYNYZ', 'YERBBDZR', 'TBZRTRS', 'NDTSRYR']\n"
          ]
        }
      ]
    },
    {
      "cell_type": "code",
      "source": [
        "class HashTable:\n",
        "  def __init__(self):\n",
        "    self.hashArray=[None]*10\n",
        "  def push(self,elem):\n",
        "    vowel='AEIOU'\n",
        "    num='0123456789'\n",
        "    consonant=0\n",
        "    digits=0     \n",
        "    for j in elem:         \n",
        "      if j not in vowel and j not in num:\n",
        "        consonant+=1\n",
        "      elif j in num:\n",
        "        digits+=int(j)\n",
        "    idx=(consonant*24+digits)%9\n",
        "    if self.hashArray[idx]==None:\n",
        "      self.hashArray[idx]=elem\n",
        "    else:\n",
        "      while self.hashArray[idx]!=None:\n",
        "        idx=(idx+1)%(len(self.hashArray))\n",
        "      self.hashArray[idx]=elem\n",
        "c = HashTable()\n",
        "array = [\"BZDYBD\",\"ZRDYNYZ\",\"YERBBDZR\",\"ZBTRDS\",\"BTZRS\",\"ZTBRSD\",\"TBZRTRS\",\"NDTSRYR\",\"FAASDDE\"]\n",
        "for i in array:\n",
        "    c.push(i)\n",
        "print(c.hashArray)"
      ],
      "metadata": {
        "colab": {
          "base_uri": "https://localhost:8080/"
        },
        "id": "l-d_dgZTBsmP",
        "outputId": "98ef27ae-5add-4812-d00a-666383a937b4"
      },
      "execution_count": 3,
      "outputs": [
        {
          "output_type": "stream",
          "name": "stdout",
          "text": [
            "['BZDYBD', 'ZBTRDS', 'ZTBRSD', 'BTZRS', 'FAASDDE', None, 'ZRDYNYZ', 'YERBBDZR', 'TBZRTRS', 'NDTSRYR']\n"
          ]
        }
      ]
    }
  ]
}